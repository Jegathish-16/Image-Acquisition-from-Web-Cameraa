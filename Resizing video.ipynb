{
 "cells": [
  {
   "cell_type": "code",
   "execution_count": 3,
   "id": "bf80d4b7",
   "metadata": {},
   "outputs": [],
   "source": [
    "import cv2\n",
    "import numpy as np"
   ]
  },
  {
   "cell_type": "code",
   "execution_count": 4,
   "id": "30435d63",
   "metadata": {},
   "outputs": [],
   "source": [
    "cap = cv2.VideoCapture(0)\n",
    "while True:\n",
    "    ret, frame = cap.read() \n",
    "    width = int(cap.get(3))\n",
    "    height = int(cap.get(4))\n",
    "    image = np.zeros(frame.shape, np.uint8) \n",
    "    smaller_frame = cv2.resize(frame, (0,0), fx = 0.5, fy=0.5) \n",
    "    image[:height//2, :width//2] = smaller_frame\n",
    "    image[height//2:, :width//2] = smaller_frame\n",
    "    image[:height//2, width//2:] = smaller_frame \n",
    "    image [height//2:, width//2:] = smaller_frame\n",
    "    cv2.imshow('Jegathish-21222130041', image)\n",
    "    if cv2.waitKey(1) == ord('q'):\n",
    "        break\n",
    "cap.release()\n",
    "cv2.destroyAllWindows()"
   ]
  },
  {
   "cell_type": "code",
   "execution_count": null,
   "id": "59931a67",
   "metadata": {},
   "outputs": [],
   "source": []
  }
 ],
 "metadata": {
  "kernelspec": {
   "display_name": "Python 3",
   "language": "python",
   "name": "python3"
  },
  "language_info": {
   "codemirror_mode": {
    "name": "ipython",
    "version": 3
   },
   "file_extension": ".py",
   "mimetype": "text/x-python",
   "name": "python",
   "nbconvert_exporter": "python",
   "pygments_lexer": "ipython3",
   "version": "3.8.8"
  }
 },
 "nbformat": 4,
 "nbformat_minor": 5
}
