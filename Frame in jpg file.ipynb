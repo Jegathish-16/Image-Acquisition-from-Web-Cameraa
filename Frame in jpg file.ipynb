{
 "cells": [
  {
   "cell_type": "code",
   "execution_count": 1,
   "id": "4dac0652",
   "metadata": {},
   "outputs": [],
   "source": [
    "import cv2"
   ]
  },
  {
   "cell_type": "code",
   "execution_count": null,
   "id": "2b2b6ce2",
   "metadata": {},
   "outputs": [],
   "source": [
    "videoCaptureObject = cv2.VideoCapture(0)\n",
    "while (True):\n",
    "    ret,frame = videoCaptureObject.read()\n",
    "    cv2.imwrite(\"img.jpeg\",frame)\n",
    "    result = False"
   ]
  },
  {
   "cell_type": "code",
   "execution_count": null,
   "id": "fc2131a9",
   "metadata": {},
   "outputs": [],
   "source": [
    "videoCaptureObject.release()\n",
    "cv2.destroyAllWindows()"
   ]
  },
  {
   "cell_type": "code",
   "execution_count": null,
   "id": "91f9952b",
   "metadata": {},
   "outputs": [],
   "source": []
  }
 ],
 "metadata": {
  "kernelspec": {
   "display_name": "Python 3",
   "language": "python",
   "name": "python3"
  },
  "language_info": {
   "codemirror_mode": {
    "name": "ipython",
    "version": 3
   },
   "file_extension": ".py",
   "mimetype": "text/x-python",
   "name": "python",
   "nbconvert_exporter": "python",
   "pygments_lexer": "ipython3",
   "version": "3.8.8"
  }
 },
 "nbformat": 4,
 "nbformat_minor": 5
}
